{
 "cells": [
  {
   "cell_type": "markdown",
   "metadata": {},
   "source": [
    "## Triple Barrier Method"
   ]
  },
  {
   "cell_type": "code",
   "execution_count": 1,
   "metadata": {},
   "outputs": [],
   "source": [
    "import pandas as pd\n",
    "import yfinance as yf"
   ]
  },
  {
   "cell_type": "code",
   "execution_count": 2,
   "metadata": {},
   "outputs": [],
   "source": [
    "from alphapy.globals import BarType\n",
    "from alphapy.metalabel import get_daily_dollar_vol\n",
    "from alphapy.variables import map_bar_type"
   ]
  },
  {
   "cell_type": "code",
   "execution_count": 3,
   "metadata": {},
   "outputs": [],
   "source": [
    "stock = 'TSLA'\n",
    "stock_info = yf.Ticker(stock)"
   ]
  },
  {
   "cell_type": "code",
   "execution_count": 4,
   "metadata": {},
   "outputs": [
    {
     "data": {
      "text/plain": [
       "'500d'"
      ]
     },
     "execution_count": 4,
     "metadata": {},
     "output_type": "execute_result"
    }
   ],
   "source": [
    "data_history = 500\n",
    "fractal = 'd'\n",
    "period = ''.join([str(data_history), fractal])\n",
    "period"
   ]
  },
  {
   "cell_type": "code",
   "execution_count": 5,
   "metadata": {},
   "outputs": [],
   "source": [
    "\n",
    "df = stock_info.history(period=period)"
   ]
  },
  {
   "cell_type": "code",
   "execution_count": 6,
   "metadata": {},
   "outputs": [],
   "source": [
    "df.reset_index(inplace=True)\n",
    "df.columns = map(str.lower, df.columns)\n",
    "df.rename(columns={'date' : 'datetime'}, inplace=True)\n",
    "df = df[['datetime', 'open', 'high', 'low', 'close', 'volume']]"
   ]
  },
  {
   "cell_type": "code",
   "execution_count": 7,
   "metadata": {},
   "outputs": [
    {
     "data": {
      "text/html": [
       "<div>\n",
       "<style scoped>\n",
       "    .dataframe tbody tr th:only-of-type {\n",
       "        vertical-align: middle;\n",
       "    }\n",
       "\n",
       "    .dataframe tbody tr th {\n",
       "        vertical-align: top;\n",
       "    }\n",
       "\n",
       "    .dataframe thead th {\n",
       "        text-align: right;\n",
       "    }\n",
       "</style>\n",
       "<table border=\"1\" class=\"dataframe\">\n",
       "  <thead>\n",
       "    <tr style=\"text-align: right;\">\n",
       "      <th></th>\n",
       "      <th>datetime</th>\n",
       "      <th>open</th>\n",
       "      <th>high</th>\n",
       "      <th>low</th>\n",
       "      <th>close</th>\n",
       "      <th>volume</th>\n",
       "    </tr>\n",
       "  </thead>\n",
       "  <tbody>\n",
       "    <tr>\n",
       "      <th>0</th>\n",
       "      <td>2020-12-16</td>\n",
       "      <td>209.410004</td>\n",
       "      <td>210.833328</td>\n",
       "      <td>201.666672</td>\n",
       "      <td>207.589996</td>\n",
       "      <td>126287400</td>\n",
       "    </tr>\n",
       "    <tr>\n",
       "      <th>1</th>\n",
       "      <td>2020-12-17</td>\n",
       "      <td>209.396667</td>\n",
       "      <td>219.606674</td>\n",
       "      <td>206.500000</td>\n",
       "      <td>218.633331</td>\n",
       "      <td>168810300</td>\n",
       "    </tr>\n",
       "    <tr>\n",
       "      <th>2</th>\n",
       "      <td>2020-12-18</td>\n",
       "      <td>222.966660</td>\n",
       "      <td>231.666672</td>\n",
       "      <td>209.513336</td>\n",
       "      <td>231.666672</td>\n",
       "      <td>666378600</td>\n",
       "    </tr>\n",
       "    <tr>\n",
       "      <th>3</th>\n",
       "      <td>2020-12-21</td>\n",
       "      <td>222.080002</td>\n",
       "      <td>222.833328</td>\n",
       "      <td>215.356674</td>\n",
       "      <td>216.619995</td>\n",
       "      <td>174135900</td>\n",
       "    </tr>\n",
       "    <tr>\n",
       "      <th>4</th>\n",
       "      <td>2020-12-22</td>\n",
       "      <td>216.000000</td>\n",
       "      <td>216.626663</td>\n",
       "      <td>204.743332</td>\n",
       "      <td>213.446671</td>\n",
       "      <td>155148000</td>\n",
       "    </tr>\n",
       "    <tr>\n",
       "      <th>...</th>\n",
       "      <td>...</td>\n",
       "      <td>...</td>\n",
       "      <td>...</td>\n",
       "      <td>...</td>\n",
       "      <td>...</td>\n",
       "      <td>...</td>\n",
       "    </tr>\n",
       "    <tr>\n",
       "      <th>495</th>\n",
       "      <td>2022-12-05</td>\n",
       "      <td>189.440002</td>\n",
       "      <td>191.270004</td>\n",
       "      <td>180.550003</td>\n",
       "      <td>182.449997</td>\n",
       "      <td>93122700</td>\n",
       "    </tr>\n",
       "    <tr>\n",
       "      <th>496</th>\n",
       "      <td>2022-12-06</td>\n",
       "      <td>181.220001</td>\n",
       "      <td>183.649994</td>\n",
       "      <td>175.330002</td>\n",
       "      <td>179.820007</td>\n",
       "      <td>92150800</td>\n",
       "    </tr>\n",
       "    <tr>\n",
       "      <th>497</th>\n",
       "      <td>2022-12-07</td>\n",
       "      <td>175.029999</td>\n",
       "      <td>179.380005</td>\n",
       "      <td>172.220001</td>\n",
       "      <td>174.039993</td>\n",
       "      <td>84213300</td>\n",
       "    </tr>\n",
       "    <tr>\n",
       "      <th>498</th>\n",
       "      <td>2022-12-08</td>\n",
       "      <td>172.199997</td>\n",
       "      <td>175.199997</td>\n",
       "      <td>169.059998</td>\n",
       "      <td>173.440002</td>\n",
       "      <td>97624500</td>\n",
       "    </tr>\n",
       "    <tr>\n",
       "      <th>499</th>\n",
       "      <td>2022-12-09</td>\n",
       "      <td>173.839996</td>\n",
       "      <td>182.500000</td>\n",
       "      <td>173.360001</td>\n",
       "      <td>179.050003</td>\n",
       "      <td>104746600</td>\n",
       "    </tr>\n",
       "  </tbody>\n",
       "</table>\n",
       "<p>500 rows × 6 columns</p>\n",
       "</div>"
      ],
      "text/plain": [
       "      datetime        open        high         low       close     volume\n",
       "0   2020-12-16  209.410004  210.833328  201.666672  207.589996  126287400\n",
       "1   2020-12-17  209.396667  219.606674  206.500000  218.633331  168810300\n",
       "2   2020-12-18  222.966660  231.666672  209.513336  231.666672  666378600\n",
       "3   2020-12-21  222.080002  222.833328  215.356674  216.619995  174135900\n",
       "4   2020-12-22  216.000000  216.626663  204.743332  213.446671  155148000\n",
       "..         ...         ...         ...         ...         ...        ...\n",
       "495 2022-12-05  189.440002  191.270004  180.550003  182.449997   93122700\n",
       "496 2022-12-06  181.220001  183.649994  175.330002  179.820007   92150800\n",
       "497 2022-12-07  175.029999  179.380005  172.220001  174.039993   84213300\n",
       "498 2022-12-08  172.199997  175.199997  169.059998  173.440002   97624500\n",
       "499 2022-12-09  173.839996  182.500000  173.360001  179.050003  104746600\n",
       "\n",
       "[500 rows x 6 columns]"
      ]
     },
     "execution_count": 7,
     "metadata": {},
     "output_type": "execute_result"
    }
   ],
   "source": [
    "df"
   ]
  },
  {
   "cell_type": "code",
   "execution_count": 8,
   "metadata": {},
   "outputs": [
    {
     "data": {
      "text/plain": [
       "18617418835.136395"
      ]
     },
     "execution_count": 8,
     "metadata": {},
     "output_type": "execute_result"
    }
   ],
   "source": [
    "ddv = get_daily_dollar_vol(df)\n",
    "ddv"
   ]
  },
  {
   "cell_type": "code",
   "execution_count": 9,
   "metadata": {},
   "outputs": [
    {
     "name": "stdout",
     "output_type": "stream",
     "text": [
      "37234837670.27279\n"
     ]
    }
   ],
   "source": [
    "dollar_bars = map_bar_type(df, BarType.dollar, '1D', pv_factor=2.0)"
   ]
  },
  {
   "cell_type": "code",
   "execution_count": null,
   "metadata": {},
   "outputs": [],
   "source": []
  }
 ],
 "metadata": {
  "kernelspec": {
   "display_name": "Python 3.8.13 ('base')",
   "language": "python",
   "name": "python3"
  },
  "language_info": {
   "codemirror_mode": {
    "name": "ipython",
    "version": 3
   },
   "file_extension": ".py",
   "mimetype": "text/x-python",
   "name": "python",
   "nbconvert_exporter": "python",
   "pygments_lexer": "ipython3",
   "version": "3.8.13"
  },
  "orig_nbformat": 4,
  "vscode": {
   "interpreter": {
    "hash": "40d3a090f54c6569ab1632332b64b2c03c39dcf918b08424e98f38b5ae0af88f"
   }
  }
 },
 "nbformat": 4,
 "nbformat_minor": 2
}
